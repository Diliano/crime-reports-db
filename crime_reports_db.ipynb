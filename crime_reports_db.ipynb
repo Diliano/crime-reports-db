{
 "cells": [
  {
   "cell_type": "markdown",
   "id": "0",
   "metadata": {},
   "source": [
    "# Building a Database for Crime Reports in Boston\n",
    "\n",
    "In this project, we will create a PostgreSQL database named `crimes_db` to store and manage crime data from Boston. Using the provided `boston.csv` dataset, we will:\n",
    "\n",
    "- Design a schema (`crimes`) and a table (`boston_crimes`) with appropriate datatypes.\n",
    "- Import the data into the database.\n",
    "- Create user roles (`readonly` and `readwrite`) with appropriate privileges.\n",
    "- Assign users to these roles to manage database access."
   ]
  },
  {
   "cell_type": "markdown",
   "id": "1",
   "metadata": {},
   "source": [
    "## Creating the Crime Database\n",
    "\n",
    "We will start by creating a database for storing our crime data, along with a schema for the tables. "
   ]
  },
  {
   "cell_type": "code",
   "execution_count": null,
   "id": "2",
   "metadata": {},
   "outputs": [],
   "source": [
    "import psycopg2\n",
    "\n",
    "conn = psycopg2.connect(dbname=\"postgres\", user=\"postgres\")\n",
    "conn.autocommit = True\n",
    "cur = conn.cursor()\n",
    "cur.execute(\"CREATE DATABASE crime_db;\")\n",
    "conn.close()\n",
    "\n",
    "conn = psycopg2.connect(dbname=\"crime_db\", user=\"postgres\")\n",
    "cur = conn.cursor()\n",
    "cur.execute(\"CREATE SCHEMA crimes;\")"
   ]
  },
  {
   "cell_type": "markdown",
   "id": "3",
   "metadata": {},
   "source": [
    "## Obtaining the Column Names and Sample\n",
    "\n",
    "Before we start creating tables, let's gather some data about our crime dataset so that we can select the right datatypes to use."
   ]
  },
  {
   "cell_type": "code",
   "execution_count": null,
   "id": "4",
   "metadata": {},
   "outputs": [],
   "source": [
    "import csv\n",
    "\n",
    "with open(\"boston.csv\") as f:\n",
    "    reader = csv.reader(f)\n",
    "    col_headers = next(reader)\n",
    "    first_row = next(reader)\n",
    "\n",
    "print(\"Column names -->\", col_headers)\n",
    "print(\"First row of data -->\", first_row)"
   ]
  },
  {
   "cell_type": "markdown",
   "id": "5",
   "metadata": {},
   "source": [
    "## Creating an Auxiliary Function\n",
    "\n",
    "To help us identify the right datatypes for the columns, we'll create a function that computes a Python set with all of the distinct values contained within a column.\n",
    "\n",
    "The function will be useful for:\n",
    "\n",
    "- Checking whether an enumerated datatype might be a good choice for representing a column.\n",
    "- Computing the maximum length of any text-like column to select appropriate sizes for `VARCHAR` columns. "
   ]
  },
  {
   "cell_type": "code",
   "execution_count": null,
   "id": "6",
   "metadata": {},
   "outputs": [],
   "source": [
    "def get_col_set(csv_filename, col_index):\n",
    "    with open(csv_filename) as f:\n",
    "        reader = csv.reader(f)\n",
    "        next(reader)\n",
    "        return set(row[col_index] for row in reader)\n",
    "\n",
    "for i in range(len(col_headers)):\n",
    "    num_unique_values = len(get_col_set(\"boston.csv\", i))\n",
    "    print(f\"Column '{col_headers[i]}' has {num_unique_values} unique values\")"
   ]
  },
  {
   "cell_type": "code",
   "execution_count": null,
   "id": "7",
   "metadata": {},
   "outputs": [],
   "source": []
  }
 ],
 "metadata": {
  "kernelspec": {
   "display_name": "Python (venv)",
   "language": "python",
   "name": "venv"
  },
  "language_info": {
   "codemirror_mode": {
    "name": "ipython",
    "version": 3
   },
   "file_extension": ".py",
   "mimetype": "text/x-python",
   "name": "python",
   "nbconvert_exporter": "python",
   "pygments_lexer": "ipython3",
   "version": "3.11.1"
  }
 },
 "nbformat": 4,
 "nbformat_minor": 5
}
