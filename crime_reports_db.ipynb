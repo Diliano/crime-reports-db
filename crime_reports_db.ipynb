{
 "cells": [
  {
   "cell_type": "markdown",
   "id": "0",
   "metadata": {},
   "source": [
    "# Building a Database for Crime Reports in Boston\n",
    "\n",
    "In this project, we will create a PostgreSQL database named `crimes_db` to store and manage crime data from Boston. Using the provided `boston.csv` dataset, we will:\n",
    "\n",
    "- Design a schema (`crimes`) and a table (`boston_crimes`) with appropriate datatypes.\n",
    "- Import the data into the database.\n",
    "- Create user roles (`readonly` and `readwrite`) with appropriate privileges.\n",
    "- Assign users to these roles to manage database access."
   ]
  },
  {
   "cell_type": "markdown",
   "id": "1",
   "metadata": {},
   "source": [
    "## Creating the Crime Database\n",
    "\n",
    "We will start by creating a database for storing our crime data, along with a schema for the tables. "
   ]
  },
  {
   "cell_type": "code",
   "execution_count": null,
   "id": "2",
   "metadata": {},
   "outputs": [],
   "source": [
    "import psycopg2\n",
    "\n",
    "conn = psycopg2.connect(dbname=\"postgres\", user=\"postgres\")\n",
    "conn.autocommit = True\n",
    "cur = conn.cursor()\n",
    "cur.execute(\"CREATE DATABASE crime_db;\")\n",
    "conn.close()\n",
    "\n",
    "conn = psycopg2.connect(dbname=\"crime_db\", user=\"postgres\")\n",
    "cur = conn.cursor()\n",
    "cur.execute(\"CREATE SCHEMA crimes;\")"
   ]
  },
  {
   "cell_type": "markdown",
   "id": "3",
   "metadata": {},
   "source": [
    "## Obtaining the Column Names and Sample\n",
    "\n",
    "Before we start creating tables, let's gather some data about our crime dataset so that we can select the right datatypes to use."
   ]
  },
  {
   "cell_type": "code",
   "execution_count": null,
   "id": "4",
   "metadata": {},
   "outputs": [],
   "source": [
    "import csv\n",
    "\n",
    "with open(\"boston.csv\") as f:\n",
    "    reader = csv.reader(f)\n",
    "    col_headers = next(reader)\n",
    "    first_row = next(reader)\n",
    "\n",
    "print(\"Column names -->\", col_headers)\n",
    "print(\"First row of data -->\", first_row)"
   ]
  },
  {
   "cell_type": "markdown",
   "id": "5",
   "metadata": {},
   "source": [
    "## Creating an Auxiliary Function\n",
    "\n",
    "To help us identify the right datatypes for the columns, we'll create a function that computes a Python set with all of the distinct values contained within a column.\n",
    "\n",
    "The function will be useful for:\n",
    "\n",
    "- Checking whether an enumerated datatype might be a good choice for representing a column.\n",
    "- Computing the maximum length of any text-like column to select appropriate sizes for `VARCHAR` columns. "
   ]
  },
  {
   "cell_type": "code",
   "execution_count": null,
   "id": "6",
   "metadata": {},
   "outputs": [],
   "source": [
    "def get_col_set(csv_filename, col_index):\n",
    "    with open(csv_filename) as f:\n",
    "        reader = csv.reader(f)\n",
    "        next(reader)\n",
    "        return set(row[col_index] for row in reader)\n",
    "\n",
    "for i in range(len(col_headers)):\n",
    "    num_unique_values = len(get_col_set(\"boston.csv\", i))\n",
    "    print(f\"- Column '{col_headers[i]}' has {num_unique_values} unique values\")"
   ]
  },
  {
   "cell_type": "markdown",
   "id": "7",
   "metadata": {},
   "source": [
    "## Calculating the Maximum Length of Values in the Description Column"
   ]
  },
  {
   "cell_type": "code",
   "execution_count": null,
   "id": "8",
   "metadata": {},
   "outputs": [],
   "source": [
    "print(col_headers)"
   ]
  },
  {
   "cell_type": "code",
   "execution_count": null,
   "id": "9",
   "metadata": {},
   "outputs": [],
   "source": [
    "desc_unique_values = get_col_set(\"boston.csv\", 2)\n",
    "desc_max_length = max(len(val) for val in desc_unique_values)\n",
    "\n",
    "print(f\"The maximum length of values contained within the 'description' column is {desc_max_length}\")"
   ]
  },
  {
   "cell_type": "markdown",
   "id": "10",
   "metadata": {},
   "source": [
    "## Choosing Datatypes\n",
    "\n",
    "While `incident_number` and `offense_code` column values are represented as strings in the CSV, they are clearly numeric identifiers. As such, we will store the values as an `INTEGER` type.\n",
    "\n",
    "From our calculation above, we found that the maximum length of values contained within the `description` column is 58. To provide some additional flexibility, we will store these values as `VARCHAR(100)`.\n",
    "\n",
    "For the `date` column, we will use the corresponding `DATE` datatype.\n",
    "\n",
    "Latitude ranges from -90.000000 to 90.000000 and Longitude ranges from -180.000000 to 180.000000. Using these ranges, we will store the `lat` and `long` column values using the `DECIMAL` datatype. We can make use of `Precision` (total number of digits) and `Scale` (number of digits after the decimal point) to specify `DECIMAL(9, 6)`, in line with the typical ranges mentioned above.\n",
    "\n",
    "As the `day_of_the_week` column only has 7 unique values, it is a good candidate for using an enumerated datatype. We'll create this datatype before creating our table."
   ]
  },
  {
   "cell_type": "code",
   "execution_count": null,
   "id": "11",
   "metadata": {},
   "outputs": [],
   "source": [
    "cur.execute(\"CREATE TYPE day_of_week AS ENUM ('Monday', 'Tuesday', 'Wednesday', 'Thursday', 'Friday', 'Saturday', 'Sunday');\")"
   ]
  },
  {
   "cell_type": "markdown",
   "id": "12",
   "metadata": {},
   "source": [
    "## Creating the Table\n",
    "\n",
    "Now that we have identified suitable datatypes for our crime data, we can go ahead and create our table."
   ]
  },
  {
   "cell_type": "code",
   "execution_count": null,
   "id": "13",
   "metadata": {},
   "outputs": [],
   "source": [
    "cur.execute(\"\"\"\n",
    "    CREATE TABLE crimes.boston_crimes (\n",
    "        incident_number integer PRIMARY KEY,\n",
    "        offense_code integer,\n",
    "        description varchar(100),\n",
    "        date date,\n",
    "        day_of_the_week day_of_week,\n",
    "        lat decimal(9, 6),\n",
    "        long decimal(9, 6)\n",
    "    );\n",
    "\"\"\")"
   ]
  },
  {
   "cell_type": "markdown",
   "id": "14",
   "metadata": {},
   "source": [
    "## Loading the Data\n",
    "\n",
    "Now that we have created our table, we can load the data into it."
   ]
  },
  {
   "cell_type": "code",
   "execution_count": null,
   "id": "15",
   "metadata": {},
   "outputs": [],
   "source": [
    "with open(\"boston.csv\") as f:\n",
    "    cur.copy_expert(\"COPY crimes.boston_crimes FROM STDIN WITH CSV HEADER;\", f)"
   ]
  },
  {
   "cell_type": "markdown",
   "id": "16",
   "metadata": {},
   "source": [
    "We can then query our table to view the first few rows."
   ]
  },
  {
   "cell_type": "code",
   "execution_count": null,
   "id": "17",
   "metadata": {},
   "outputs": [],
   "source": [
    "cur.execute(\"SELECT * FROM crimes.boston_crimes LIMIT 5\")\n",
    "first_five = cur.fetchall()\n",
    "\n",
    "for row in first_five:\n",
    "    print(row)"
   ]
  },
  {
   "cell_type": "code",
   "execution_count": null,
   "id": "18",
   "metadata": {},
   "outputs": [],
   "source": []
  }
 ],
 "metadata": {
  "kernelspec": {
   "display_name": "Python (venv)",
   "language": "python",
   "name": "venv"
  },
  "language_info": {
   "codemirror_mode": {
    "name": "ipython",
    "version": 3
   },
   "file_extension": ".py",
   "mimetype": "text/x-python",
   "name": "python",
   "nbconvert_exporter": "python",
   "pygments_lexer": "ipython3",
   "version": "3.11.1"
  }
 },
 "nbformat": 4,
 "nbformat_minor": 5
}
